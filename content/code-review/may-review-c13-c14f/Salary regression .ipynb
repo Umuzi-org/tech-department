{
 "cells": [
  {
   "cell_type": "code",
   "execution_count": 25,
   "metadata": {},
   "outputs": [],
   "source": [
    "import numpy as np\n",
    "import pandas as pd\n",
    "import matplotlib.pyplot as plt\n",
    "import statsmodels.api as sm\n",
    "import statsmodels.formula.api as smf\n",
    "%matplotlib inline\n",
    "from sklearn import datasets, linear_model\n",
    "from sklearn.linear_model import LinearRegression\n",
    "from sklearn.model_selection import train_test_split\n",
    "import seaborn as sns"
   ]
  },
  {
   "cell_type": "code",
   "execution_count": 26,
   "metadata": {},
   "outputs": [
    {
     "data": {
      "text/html": [
       "<div>\n",
       "<style scoped>\n",
       "    .dataframe tbody tr th:only-of-type {\n",
       "        vertical-align: middle;\n",
       "    }\n",
       "\n",
       "    .dataframe tbody tr th {\n",
       "        vertical-align: top;\n",
       "    }\n",
       "\n",
       "    .dataframe thead th {\n",
       "        text-align: right;\n",
       "    }\n",
       "</style>\n",
       "<table border=\"1\" class=\"dataframe\">\n",
       "  <thead>\n",
       "    <tr style=\"text-align: right;\">\n",
       "      <th></th>\n",
       "      <th>salary</th>\n",
       "      <th>exprior</th>\n",
       "      <th>yearsworked</th>\n",
       "      <th>yearsrank</th>\n",
       "      <th>market</th>\n",
       "      <th>Field</th>\n",
       "      <th>yearsabs</th>\n",
       "    </tr>\n",
       "  </thead>\n",
       "  <tbody>\n",
       "    <tr>\n",
       "      <th>0</th>\n",
       "      <td>53000.0</td>\n",
       "      <td>0</td>\n",
       "      <td>0</td>\n",
       "      <td>0</td>\n",
       "      <td>1.17</td>\n",
       "      <td>3</td>\n",
       "      <td>0</td>\n",
       "    </tr>\n",
       "    <tr>\n",
       "      <th>1</th>\n",
       "      <td>58000.0</td>\n",
       "      <td>1</td>\n",
       "      <td>0</td>\n",
       "      <td>0</td>\n",
       "      <td>1.24</td>\n",
       "      <td>2</td>\n",
       "      <td>0</td>\n",
       "    </tr>\n",
       "    <tr>\n",
       "      <th>2</th>\n",
       "      <td>45500.0</td>\n",
       "      <td>0</td>\n",
       "      <td>0</td>\n",
       "      <td>0</td>\n",
       "      <td>1.21</td>\n",
       "      <td>3</td>\n",
       "      <td>2</td>\n",
       "    </tr>\n",
       "    <tr>\n",
       "      <th>3</th>\n",
       "      <td>35782.0</td>\n",
       "      <td>0</td>\n",
       "      <td>2</td>\n",
       "      <td>1</td>\n",
       "      <td>0.99</td>\n",
       "      <td>4</td>\n",
       "      <td>1</td>\n",
       "    </tr>\n",
       "    <tr>\n",
       "      <th>4</th>\n",
       "      <td>34731.0</td>\n",
       "      <td>0</td>\n",
       "      <td>2</td>\n",
       "      <td>2</td>\n",
       "      <td>0.91</td>\n",
       "      <td>4</td>\n",
       "      <td>1</td>\n",
       "    </tr>\n",
       "  </tbody>\n",
       "</table>\n",
       "</div>"
      ],
      "text/plain": [
       "    salary  exprior  yearsworked  yearsrank  market  Field  yearsabs\n",
       "0  53000.0        0            0          0    1.17      3         0\n",
       "1  58000.0        1            0          0    1.24      2         0\n",
       "2  45500.0        0            0          0    1.21      3         2\n",
       "3  35782.0        0            2          1    0.99      4         1\n",
       "4  34731.0        0            2          2    0.91      4         1"
      ]
     },
     "execution_count": 26,
     "metadata": {},
     "output_type": "execute_result"
    }
   ],
   "source": [
    "df_salary = pd.read_csv(\"salary.csv\")#.dropna()\n",
    "\n",
    "df_salary = df_salary.drop(['degree','otherqual','position','male'], axis=1)\\\n",
    "\n",
    "df_salary.head()"
   ]
  },
  {
   "cell_type": "markdown",
   "metadata": {},
   "source": [
    "#### [Comment]\n",
    "* Why drop these variable?\n",
    "* Do .head() before and after transformation to make sure code does what you want it ti do\n",
    "* Specify axis for .dropna(), but also check how many rows will be affected before dropping them"
   ]
  },
  {
   "cell_type": "code",
   "execution_count": 27,
   "metadata": {},
   "outputs": [
    {
     "name": "stdout",
     "output_type": "stream",
     "text": [
      "((359, 7), (359L,))\n",
      "((155, 7), (155L,))\n"
     ]
    }
   ],
   "source": [
    "#defining the y variable\n",
    "y = df_salary.salary\n",
    "\n",
    "#splitting dataset into training and testing sets\n",
    "x_train, x_test, y_train, y_test = train_test_split(df_salary, y, test_size=0.3, random_state = 0)\n",
    "print(x_train.shape, y_train.shape)\n",
    "print(x_test.shape, y_test.shape)"
   ]
  },
  {
   "cell_type": "markdown",
   "metadata": {},
   "source": [
    "##### [Comment]\n",
    "* What about the X variable? Won't your salary be included in your X variables too this way?"
   ]
  },
  {
   "cell_type": "markdown",
   "metadata": {},
   "source": [
    "## Create scatterplots, histograms, and a descriptive statistics table of the variables of interest."
   ]
  },
  {
   "cell_type": "code",
   "execution_count": 28,
   "metadata": {},
   "outputs": [
    {
     "data": {
      "text/plain": [
       "<matplotlib.axes._subplots.AxesSubplot at 0x19b79860>"
      ]
     },
     "execution_count": 28,
     "metadata": {},
     "output_type": "execute_result"
    },
    {
     "data": {
      "image/png": "[encoded data removed]",
      "text/plain": [
       "<Figure size 1656x576 with 6 Axes>"
      ]
     },
     "metadata": {
      "needs_background": "light"
     },
     "output_type": "display_data"
    }
   ],
   "source": [
    "fig, axs = plt.subplots(1, 6, sharey=True)\n",
    "df_salary.plot(kind='scatter', x='exprior', y='salary', ax=axs[0], figsize=(23, 8))\n",
    "df_salary.plot(kind='scatter', x='yearsworked', y='salary', ax=axs[1])\n",
    "df_salary.plot(kind='scatter', x='yearsrank', y='salary', ax=axs[2])\n",
    "df_salary.plot(kind='scatter', x='Field', y='salary', ax=axs[3])\n",
    "df_salary.plot(kind='scatter', x='yearsabs', y='salary', ax=axs[4])\n",
    "df_salary.plot(kind='scatter', x='market', y='salary', ax=axs[5])"
   ]
  },
  {
   "cell_type": "markdown",
   "metadata": {},
   "source": [
    "##### [Comment]\n",
    "* Interpret results and how this helps you in developing/interpreting/eveluating the model"
   ]
  },
  {
   "cell_type": "code",
   "execution_count": 29,
   "metadata": {},
   "outputs": [
    {
     "data": {
      "text/plain": [
       "<matplotlib.axes._subplots.AxesSubplot at 0x14a89160>"
      ]
     },
     "execution_count": 29,
     "metadata": {},
     "output_type": "execute_result"
    },
    {
     "data": {
      "image/png": "[encoded data removed]",
      "text/plain": [
       "<Figure size 1440x504 with 6 Axes>"
      ]
     },
     "metadata": {
      "needs_background": "light"
     },
     "output_type": "display_data"
    }
   ],
   "source": [
    "fig, axs = plt.subplots(1, 6, sharey=True)\n",
    "df_salary.plot(kind='hist', y='salary', ax=axs[0], figsize=(20, 7))\n",
    "df_salary.plot(kind='hist', y='exprior', ax=axs[1])\n",
    "df_salary.plot(kind='hist', y='yearsworked', ax=axs[2])\n",
    "df_salary.plot(kind='hist', y='yearsrank', ax=axs[3])\n",
    "df_salary.plot(kind='hist', y='market', ax=axs[4])\n",
    "df_salary.plot(kind='hist', y='yearsabs', ax=axs[5])"
   ]
  },
  {
   "cell_type": "markdown",
   "metadata": {},
   "source": [
    "##### [Comment]\n",
    "* Be decisive about most suitable way to present your data (histogram vs scatter) NOT both for some of the data\n",
    "* Example: Field"
   ]
  },
  {
   "cell_type": "code",
   "execution_count": 30,
   "metadata": {},
   "outputs": [
    {
     "data": {
      "text/html": [
       "<div>\n",
       "<style scoped>\n",
       "    .dataframe tbody tr th:only-of-type {\n",
       "        vertical-align: middle;\n",
       "    }\n",
       "\n",
       "    .dataframe tbody tr th {\n",
       "        vertical-align: top;\n",
       "    }\n",
       "\n",
       "    .dataframe thead th {\n",
       "        text-align: right;\n",
       "    }\n",
       "</style>\n",
       "<table border=\"1\" class=\"dataframe\">\n",
       "  <thead>\n",
       "    <tr style=\"text-align: right;\">\n",
       "      <th></th>\n",
       "      <th>salary</th>\n",
       "      <th>exprior</th>\n",
       "      <th>yearsworked</th>\n",
       "      <th>yearsrank</th>\n",
       "      <th>market</th>\n",
       "      <th>Field</th>\n",
       "      <th>yearsabs</th>\n",
       "    </tr>\n",
       "  </thead>\n",
       "  <tbody>\n",
       "    <tr>\n",
       "      <th>count</th>\n",
       "      <td>359.000000</td>\n",
       "      <td>359.000000</td>\n",
       "      <td>359.000000</td>\n",
       "      <td>359.000000</td>\n",
       "      <td>359.000000</td>\n",
       "      <td>359.000000</td>\n",
       "      <td>359.000000</td>\n",
       "    </tr>\n",
       "    <tr>\n",
       "      <th>mean</th>\n",
       "      <td>51098.340072</td>\n",
       "      <td>3.155989</td>\n",
       "      <td>12.718663</td>\n",
       "      <td>7.153203</td>\n",
       "      <td>0.946602</td>\n",
       "      <td>2.481894</td>\n",
       "      <td>7.144847</td>\n",
       "    </tr>\n",
       "    <tr>\n",
       "      <th>std</th>\n",
       "      <td>12930.640561</td>\n",
       "      <td>5.104841</td>\n",
       "      <td>9.474250</td>\n",
       "      <td>6.492921</td>\n",
       "      <td>0.147628</td>\n",
       "      <td>1.108162</td>\n",
       "      <td>16.544376</td>\n",
       "    </tr>\n",
       "    <tr>\n",
       "      <th>min</th>\n",
       "      <td>29000.000000</td>\n",
       "      <td>0.000000</td>\n",
       "      <td>0.000000</td>\n",
       "      <td>0.000000</td>\n",
       "      <td>0.710000</td>\n",
       "      <td>1.000000</td>\n",
       "      <td>0.000000</td>\n",
       "    </tr>\n",
       "    <tr>\n",
       "      <th>25%</th>\n",
       "      <td>40033.000000</td>\n",
       "      <td>0.000000</td>\n",
       "      <td>4.000000</td>\n",
       "      <td>2.000000</td>\n",
       "      <td>0.840000</td>\n",
       "      <td>2.000000</td>\n",
       "      <td>0.000000</td>\n",
       "    </tr>\n",
       "    <tr>\n",
       "      <th>50%</th>\n",
       "      <td>49768.000000</td>\n",
       "      <td>1.000000</td>\n",
       "      <td>11.000000</td>\n",
       "      <td>5.000000</td>\n",
       "      <td>0.920000</td>\n",
       "      <td>2.000000</td>\n",
       "      <td>1.000000</td>\n",
       "    </tr>\n",
       "    <tr>\n",
       "      <th>75%</th>\n",
       "      <td>60703.433595</td>\n",
       "      <td>4.000000</td>\n",
       "      <td>21.000000</td>\n",
       "      <td>12.000000</td>\n",
       "      <td>1.010000</td>\n",
       "      <td>3.000000</td>\n",
       "      <td>2.000000</td>\n",
       "    </tr>\n",
       "    <tr>\n",
       "      <th>max</th>\n",
       "      <td>96156.000000</td>\n",
       "      <td>25.000000</td>\n",
       "      <td>41.000000</td>\n",
       "      <td>28.000000</td>\n",
       "      <td>1.330000</td>\n",
       "      <td>4.000000</td>\n",
       "      <td>118.000000</td>\n",
       "    </tr>\n",
       "  </tbody>\n",
       "</table>\n",
       "</div>"
      ],
      "text/plain": [
       "             salary     exprior  yearsworked   yearsrank      market  \\\n",
       "count    359.000000  359.000000   359.000000  359.000000  359.000000   \n",
       "mean   51098.340072    3.155989    12.718663    7.153203    0.946602   \n",
       "std    12930.640561    5.104841     9.474250    6.492921    0.147628   \n",
       "min    29000.000000    0.000000     0.000000    0.000000    0.710000   \n",
       "25%    40033.000000    0.000000     4.000000    2.000000    0.840000   \n",
       "50%    49768.000000    1.000000    11.000000    5.000000    0.920000   \n",
       "75%    60703.433595    4.000000    21.000000   12.000000    1.010000   \n",
       "max    96156.000000   25.000000    41.000000   28.000000    1.330000   \n",
       "\n",
       "            Field    yearsabs  \n",
       "count  359.000000  359.000000  \n",
       "mean     2.481894    7.144847  \n",
       "std      1.108162   16.544376  \n",
       "min      1.000000    0.000000  \n",
       "25%      2.000000    0.000000  \n",
       "50%      2.000000    1.000000  \n",
       "75%      3.000000    2.000000  \n",
       "max      4.000000  118.000000  "
      ]
     },
     "execution_count": 30,
     "metadata": {},
     "output_type": "execute_result"
    }
   ],
   "source": [
    "# Statistic summary table\n",
    "x_train.describe()"
   ]
  },
  {
   "cell_type": "markdown",
   "metadata": {},
   "source": [
    "##### [Comment]\n",
    "* Interpret results. Example, a distribution plot of full dataset vs training set can show you is your training set is representative of your data. Here, you can .describe() df_salary() and compare the stats (mean,std,25% & 75%), if too different, your training set might be not so good, resample"
   ]
  },
  {
   "cell_type": "markdown",
   "metadata": {},
   "source": [
    "### One-hot encode the variable Field into three dummy variables, using HR as the reference category. You can use pandas' get_dummies() function for this."
   ]
  },
  {
   "cell_type": "code",
   "execution_count": 31,
   "metadata": {},
   "outputs": [
    {
     "data": {
      "text/html": [
       "<div>\n",
       "<style scoped>\n",
       "    .dataframe tbody tr th:only-of-type {\n",
       "        vertical-align: middle;\n",
       "    }\n",
       "\n",
       "    .dataframe tbody tr th {\n",
       "        vertical-align: top;\n",
       "    }\n",
       "\n",
       "    .dataframe thead th {\n",
       "        text-align: right;\n",
       "    }\n",
       "</style>\n",
       "<table border=\"1\" class=\"dataframe\">\n",
       "  <thead>\n",
       "    <tr style=\"text-align: right;\">\n",
       "      <th></th>\n",
       "      <th>1</th>\n",
       "      <th>2</th>\n",
       "      <th>3</th>\n",
       "      <th>4</th>\n",
       "    </tr>\n",
       "  </thead>\n",
       "  <tbody>\n",
       "    <tr>\n",
       "      <th>419</th>\n",
       "      <td>0</td>\n",
       "      <td>1</td>\n",
       "      <td>0</td>\n",
       "      <td>0</td>\n",
       "    </tr>\n",
       "    <tr>\n",
       "      <th>135</th>\n",
       "      <td>1</td>\n",
       "      <td>0</td>\n",
       "      <td>0</td>\n",
       "      <td>0</td>\n",
       "    </tr>\n",
       "    <tr>\n",
       "      <th>386</th>\n",
       "      <td>0</td>\n",
       "      <td>0</td>\n",
       "      <td>1</td>\n",
       "      <td>0</td>\n",
       "    </tr>\n",
       "    <tr>\n",
       "      <th>122</th>\n",
       "      <td>0</td>\n",
       "      <td>1</td>\n",
       "      <td>0</td>\n",
       "      <td>0</td>\n",
       "    </tr>\n",
       "    <tr>\n",
       "      <th>22</th>\n",
       "      <td>0</td>\n",
       "      <td>0</td>\n",
       "      <td>0</td>\n",
       "      <td>1</td>\n",
       "    </tr>\n",
       "  </tbody>\n",
       "</table>\n",
       "</div>"
      ],
      "text/plain": [
       "     1  2  3  4\n",
       "419  0  1  0  0\n",
       "135  1  0  0  0\n",
       "386  0  0  1  0\n",
       "122  0  1  0  0\n",
       "22   0  0  0  1"
      ]
     },
     "execution_count": 31,
     "metadata": {},
     "output_type": "execute_result"
    }
   ],
   "source": [
    "xg = x_train['Field']\n",
    "pd.get_dummies(xg).head()"
   ]
  },
  {
   "cell_type": "markdown",
   "metadata": {},
   "source": [
    "##### [Comment]\n",
    "* Already numerical, why get_dummies()?\n",
    "* The dummies are not used in the model, why are they needed here?\n",
    "* If different fields were disaggregated before training the model, the predictiong power & effect of field on salary could be tested "
   ]
  },
  {
   "cell_type": "markdown",
   "metadata": {},
   "source": [
    "### Produce a correlation matrix comparing the relationship of salary to the predictor variables. Is there any multicollinearity or other problems that may be a problem in the multiple regression?"
   ]
  },
  {
   "cell_type": "code",
   "execution_count": 32,
   "metadata": {},
   "outputs": [
    {
     "data": {
      "text/html": [
       "<div>\n",
       "<style scoped>\n",
       "    .dataframe tbody tr th:only-of-type {\n",
       "        vertical-align: middle;\n",
       "    }\n",
       "\n",
       "    .dataframe tbody tr th {\n",
       "        vertical-align: top;\n",
       "    }\n",
       "\n",
       "    .dataframe thead th {\n",
       "        text-align: right;\n",
       "    }\n",
       "</style>\n",
       "<table border=\"1\" class=\"dataframe\">\n",
       "  <thead>\n",
       "    <tr style=\"text-align: right;\">\n",
       "      <th></th>\n",
       "      <th>salary</th>\n",
       "      <th>exprior</th>\n",
       "      <th>yearsworked</th>\n",
       "      <th>yearsrank</th>\n",
       "      <th>market</th>\n",
       "      <th>Field</th>\n",
       "      <th>yearsabs</th>\n",
       "    </tr>\n",
       "  </thead>\n",
       "  <tbody>\n",
       "    <tr>\n",
       "      <th>salary</th>\n",
       "      <td>1.000000</td>\n",
       "      <td>0.126978</td>\n",
       "      <td>0.606048</td>\n",
       "      <td>0.613583</td>\n",
       "      <td>0.396942</td>\n",
       "      <td>-0.503231</td>\n",
       "      <td>-0.089951</td>\n",
       "    </tr>\n",
       "    <tr>\n",
       "      <th>exprior</th>\n",
       "      <td>0.126978</td>\n",
       "      <td>1.000000</td>\n",
       "      <td>-0.290060</td>\n",
       "      <td>-0.124690</td>\n",
       "      <td>-0.027612</td>\n",
       "      <td>-0.078998</td>\n",
       "      <td>0.092107</td>\n",
       "    </tr>\n",
       "    <tr>\n",
       "      <th>yearsworked</th>\n",
       "      <td>0.606048</td>\n",
       "      <td>-0.290060</td>\n",
       "      <td>1.000000</td>\n",
       "      <td>0.835483</td>\n",
       "      <td>-0.065292</td>\n",
       "      <td>-0.281040</td>\n",
       "      <td>0.044402</td>\n",
       "    </tr>\n",
       "    <tr>\n",
       "      <th>yearsrank</th>\n",
       "      <td>0.613583</td>\n",
       "      <td>-0.124690</td>\n",
       "      <td>0.835483</td>\n",
       "      <td>1.000000</td>\n",
       "      <td>-0.016620</td>\n",
       "      <td>-0.296405</td>\n",
       "      <td>0.040202</td>\n",
       "    </tr>\n",
       "    <tr>\n",
       "      <th>market</th>\n",
       "      <td>0.396942</td>\n",
       "      <td>-0.027612</td>\n",
       "      <td>-0.065292</td>\n",
       "      <td>-0.016620</td>\n",
       "      <td>1.000000</td>\n",
       "      <td>-0.191952</td>\n",
       "      <td>-0.169517</td>\n",
       "    </tr>\n",
       "    <tr>\n",
       "      <th>Field</th>\n",
       "      <td>-0.503231</td>\n",
       "      <td>-0.078998</td>\n",
       "      <td>-0.281040</td>\n",
       "      <td>-0.296405</td>\n",
       "      <td>-0.191952</td>\n",
       "      <td>1.000000</td>\n",
       "      <td>0.033205</td>\n",
       "    </tr>\n",
       "    <tr>\n",
       "      <th>yearsabs</th>\n",
       "      <td>-0.089951</td>\n",
       "      <td>0.092107</td>\n",
       "      <td>0.044402</td>\n",
       "      <td>0.040202</td>\n",
       "      <td>-0.169517</td>\n",
       "      <td>0.033205</td>\n",
       "      <td>1.000000</td>\n",
       "    </tr>\n",
       "  </tbody>\n",
       "</table>\n",
       "</div>"
      ],
      "text/plain": [
       "               salary   exprior  yearsworked  yearsrank    market     Field  \\\n",
       "salary       1.000000  0.126978     0.606048   0.613583  0.396942 -0.503231   \n",
       "exprior      0.126978  1.000000    -0.290060  -0.124690 -0.027612 -0.078998   \n",
       "yearsworked  0.606048 -0.290060     1.000000   0.835483 -0.065292 -0.281040   \n",
       "yearsrank    0.613583 -0.124690     0.835483   1.000000 -0.016620 -0.296405   \n",
       "market       0.396942 -0.027612    -0.065292  -0.016620  1.000000 -0.191952   \n",
       "Field       -0.503231 -0.078998    -0.281040  -0.296405 -0.191952  1.000000   \n",
       "yearsabs    -0.089951  0.092107     0.044402   0.040202 -0.169517  0.033205   \n",
       "\n",
       "             yearsabs  \n",
       "salary      -0.089951  \n",
       "exprior      0.092107  \n",
       "yearsworked  0.044402  \n",
       "yearsrank    0.040202  \n",
       "market      -0.169517  \n",
       "Field        0.033205  \n",
       "yearsabs     1.000000  "
      ]
     },
     "execution_count": 32,
     "metadata": {},
     "output_type": "execute_result"
    }
   ],
   "source": [
    "x_train.corr()"
   ]
  },
  {
   "cell_type": "markdown",
   "metadata": {},
   "source": [
    "##### [Comment]\n",
    "* Interpret results\n",
    "* Example: positive correlation above 50% between yearsworked & salary suggest yearsworked might have a strong predicting power on salary"
   ]
  },
  {
   "cell_type": "code",
   "execution_count": 33,
   "metadata": {},
   "outputs": [
    {
     "data": {
      "text/plain": [
       "<matplotlib.axes._subplots.AxesSubplot at 0x1a0ae2b0>"
      ]
     },
     "execution_count": 33,
     "metadata": {},
     "output_type": "execute_result"
    },
    {
     "data": {
      "image/png": "[encoded data removed]",
      "text/plain": [
       "<Figure size 720x360 with 2 Axes>"
      ]
     },
     "metadata": {
      "needs_background": "light"
     },
     "output_type": "display_data"
    }
   ],
   "source": [
    "plt.figure(figsize=(10,5))\n",
    "           \n",
    "sns.heatmap(x_train.corr())"
   ]
  },
  {
   "cell_type": "markdown",
   "metadata": {},
   "source": [
    "##### [Comment]\n",
    "* Be decisive about how best to present your data. Avoid unnecessary repetition of data presentation"
   ]
  },
  {
   "cell_type": "markdown",
   "metadata": {},
   "source": [
    "### Run the multiple linear regression and interpret the standardised coefficients given in the statsmodels output. What are the most important features when predicting employee salary?"
   ]
  },
  {
   "cell_type": "code",
   "execution_count": 34,
   "metadata": {},
   "outputs": [
    {
     "name": "stdout",
     "output_type": "stream",
     "text": [
      "Intercept      11103.415466\n",
      "exprior          770.547778\n",
      "yearsworked      741.242701\n",
      "yearsrank        291.378664\n",
      "market         34253.751259\n",
      "Field          -2399.589718\n",
      "yearsabs         -58.497149\n",
      "dtype: float64\n"
     ]
    }
   ],
   "source": [
    "#created a fitted model in one line\n",
    "l_model = smf.ols(formula='salary ~ exprior + yearsworked + yearsrank + market + Field + yearsabs', data=x_train).fit()\n",
    "\n",
    "#print the coefficients\n",
    "print(l_model.params)\n",
    "#print(l_model.summary())"
   ]
  },
  {
   "cell_type": "markdown",
   "metadata": {},
   "source": [
    "##### [Comment]\n",
    "* Over summarising a model does not help you understand how it can be tweaked. Break steps into smaller bites and have a good understanding of parameters being used in the model"
   ]
  },
  {
   "cell_type": "markdown",
   "metadata": {},
   "source": [
    "### Calculate the standardised residuals (resid()) and standardised predicted values (fittedvalues())."
   ]
  },
  {
   "cell_type": "code",
   "execution_count": 35,
   "metadata": {},
   "outputs": [
    {
     "name": "stdout",
     "output_type": "stream",
     "text": [
      "('predictions:', (359L,), '\\nresiduals:', (359L,))\n"
     ]
    }
   ],
   "source": [
    "predictions = l_model.predict()\n",
    "residuals = l_model.resid\n",
    "print('predictions:', predictions.shape,'\\nresiduals:', residuals.shape)"
   ]
  },
  {
   "cell_type": "markdown",
   "metadata": {},
   "source": [
    "##### [Comment]\n",
    "* Header and results do not match"
   ]
  },
  {
   "cell_type": "markdown",
   "metadata": {},
   "source": [
    "### Plot the residuals versus the predicted values using seaborn's residplot with fitted values as the x parameter, and the dependent variable as y. lowess=True."
   ]
  },
  {
   "cell_type": "code",
   "execution_count": 36,
   "metadata": {},
   "outputs": [
    {
     "data": {
      "text/plain": [
       "<matplotlib.axes._subplots.AxesSubplot at 0x178bf4a8>"
      ]
     },
     "execution_count": 36,
     "metadata": {},
     "output_type": "execute_result"
    },
    {
     "data": {
      "image/png": "[encoded data removed]",
      "text/plain": [
       "<Figure size 432x288 with 1 Axes>"
      ]
     },
     "metadata": {
      "needs_background": "light"
     },
     "output_type": "display_data"
    }
   ],
   "source": [
    "#seaborn.residplot(x, y, lowess=Tr\n",
    "sns.residplot(predictions, residuals, lowess=True)\n"
   ]
  },
  {
   "cell_type": "markdown",
   "metadata": {},
   "source": [
    "##### [Comment]\n",
    "* Interpret results"
   ]
  },
  {
   "cell_type": "markdown",
   "metadata": {},
   "source": [
    "## Run your model on the test set."
   ]
  },
  {
   "cell_type": "code",
   "execution_count": 37,
   "metadata": {},
   "outputs": [
    {
     "name": "stdout",
     "output_type": "stream",
     "text": [
      "Intercept      11601.176061\n",
      "exprior          636.289410\n",
      "yearsworked      797.166908\n",
      "yearsrank        170.512542\n",
      "market         33497.092146\n",
      "Field          -2288.815568\n",
      "yearsabs         -50.690314\n",
      "dtype: float64\n"
     ]
    }
   ],
   "source": [
    "#created a fitted model in one line\n",
    "l_model = smf.ols(formula='salary ~ exprior + yearsworked + yearsrank + market + Field + yearsabs', data=x_test).fit()\n",
    "\n",
    "#print the coefficients\n",
    "print(l_model.params)\n",
    "#print(l_model.summary())"
   ]
  },
  {
   "cell_type": "markdown",
   "metadata": {},
   "source": [
    "##### [Comment] - VERY CRITICAL\n",
    "* Use .predict() method, .fit() is to train the model "
   ]
  },
  {
   "cell_type": "markdown",
   "metadata": {},
   "source": [
    "### How does your model compare when running it on the test set - what is the difference in the Root Mean Square Error (RMSE) between the training and test sets?"
   ]
  },
  {
   "cell_type": "code",
   "execution_count": 41,
   "metadata": {},
   "outputs": [],
   "source": [
    "from sklearn import metrics\n",
    "prediction = l_model.predict(x_test)\n",
    "print(np.sqrt(metrics.mean_squared_error(y_test, prediction)))\n",
    "\n",
    "prediction1 = l_model.predict(x_train)\n",
    "print(np.sqrt(metrics.mean_squared_error(y_train, prediction1)))"
   ]
  },
  {
   "cell_type": "markdown",
   "metadata": {},
   "source": [
    "##### [Comment] - VERY CRITICAL \n",
    "###### In last step, model was re-trained using x_test #### NOT \n",
    "* prediction variable will test the model using same data used to train it\n",
    "* prediction1 variable will test the model using the training dataset"
   ]
  },
  {
   "cell_type": "code",
   "execution_count": null,
   "metadata": {},
   "outputs": [],
   "source": []
  }
 ],
 "metadata": {
  "kernelspec": {
   "display_name": "Python 2",
   "language": "python",
   "name": "python2"
  },
  "language_info": {
   "codemirror_mode": {
    "name": "ipython",
    "version": 2
   },
   "file_extension": ".py",
   "mimetype": "text/x-python",
   "name": "python",
   "nbconvert_exporter": "python",
   "pygments_lexer": "ipython2",
   "version": "2.7.16"
  }
 },
 "nbformat": 4,
 "nbformat_minor": 2
}
