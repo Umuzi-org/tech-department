{
 "cells": [
  {
   "cell_type": "code",
   "execution_count": 1,
   "metadata": {},
   "outputs": [
    {
     "name": "stdout",
     "output_type": "stream",
     "text": [
      "(359, 7)\n",
      "(155, 7)\n"
     ]
    }
   ],
   "source": [
    "import pandas as pd\n",
    "import statsmodels.api as sm\n",
    "import matplotlib.pyplot as plt\n",
    "from sklearn import datasets, linear_model\n",
    "from sklearn.model_selection import train_test_split\n",
    "from sklearn.metrics import mean_squared_error\n",
    "import statsmodels.formula.api as smf\n",
    "import seaborn as sns\n",
    "\n",
    "df = pd.read_csv('salary.csv')\n",
    "\n",
    "df = df.drop(['degree','otherqual','position','male'], axis=1)\n",
    "\n",
    "# Remove Nan values\n",
    "df.dropna(how='any',axis=0)\n",
    "\n",
    "df.shape\n",
    "\n",
    "y = df.salary\n",
    "\n",
    "X_train, X_test, y_train, y_test = train_test_split(df, y, test_size=0.3, random_state=42)\n",
    "print(X_train.shape)\n",
    "print(X_test.shape)\n"
   ]
  },
  {
   "cell_type": "markdown",
   "metadata": {},
   "source": [
    "##### [Comment]\n",
    "* Risky to perform multiple tasks at same time\n",
    "* Example: - why were varaibles dropped? At least check how many rows will be dropped e.g using df.isna().sum() to check how dropping values might affect your data integrity/stats\n",
    "* Hard to prove/test if each step in the code does what you want it to do when it is clustered"
   ]
  },
  {
   "cell_type": "markdown",
   "metadata": {},
   "source": [
    "#### Create scatterplots, histograms, and a descriptive statistics table of the variables of interest."
   ]
  },
  {
   "cell_type": "code",
   "execution_count": 2,
   "metadata": {},
   "outputs": [
    {
     "data": {
      "image/png": "[encoded data removed]",
      "text/plain": [
       "<Figure size 432x288 with 1 Axes>"
      ]
     },
     "metadata": {
      "needs_background": "light"
     },
     "output_type": "display_data"
    }
   ],
   "source": [
    "plt.hist(X_train['salary'],data=X_train, bins=20)\n",
    "\n",
    "plt.show()"
   ]
  },
  {
   "cell_type": "markdown",
   "metadata": {},
   "source": [
    "##### [Comment]\n",
    "\n",
    "* Rather do exploratory analysis on entire/full dataset first, then maybe compare with your training dataset to check if full range of statistical variation in your dataset is preserved\n",
    "* This can help you get an idea of how representative your training set is of your full dataset, in case you need to increase the size of your training set\n",
    "* Add plot title and axis labels as well\n",
    "* Have a short explanation to explain why this task was done and how it will help you to train/develop/interpret the performance of your model"
   ]
  },
  {
   "cell_type": "code",
   "execution_count": 3,
   "metadata": {},
   "outputs": [
    {
     "data": {
      "image/png": "[encoded data removed]",
      "text/plain": [
       "<Figure size 432x288 with 5 Axes>"
      ]
     },
     "metadata": {
      "needs_background": "light"
     },
     "output_type": "display_data"
    }
   ],
   "source": [
    "plt.subplot(2,3,1)\n",
    "\n",
    "plt.scatter(X_train['salary'], X_train['exprior'], c=\"red\")\n",
    "\n",
    "plt.title(\"Salary vs Exprior\")\n",
    "\n",
    "plt.subplot(2,3,2)\n",
    "\n",
    "plt.scatter(X_train['salary'], X_train['yearsworked'], c=\"green\")\n",
    "\n",
    "plt.title(\"Salary vs Years Worked\")\n",
    "\n",
    "plt.subplot(2,3,3)\n",
    "\n",
    "plt.scatter(X_train['salary'], X_train['market'])\n",
    "\n",
    "plt.title(\"Salary vs Market\")\n",
    "\n",
    "plt.subplot(2,3,4)\n",
    "\n",
    "plt.scatter(X_train['salary'], X_train['yearsabs'], c=\"yellow\")\n",
    "\n",
    "plt.subplot(2,3,5)\n",
    "\n",
    "plt.scatter(X_train['salary'], X_train['yearsrank'])\n",
    "\n",
    "plt.show()"
   ]
  },
  {
   "cell_type": "markdown",
   "metadata": {},
   "source": [
    "##### [Comment]\n",
    "\n",
    "* Add labels to axis\n",
    "* Careful not to have dependent variables (e.g salary) on x-axis as they might confuse reader to think your model is testing effect of salary on other variables\n",
    "* Resize the figure so images fit the screen"
   ]
  },
  {
   "cell_type": "code",
   "execution_count": 4,
   "metadata": {},
   "outputs": [
    {
     "data": {
      "text/html": [
       "<div>\n",
       "<style scoped>\n",
       "    .dataframe tbody tr th:only-of-type {\n",
       "        vertical-align: middle;\n",
       "    }\n",
       "\n",
       "    .dataframe tbody tr th {\n",
       "        vertical-align: top;\n",
       "    }\n",
       "\n",
       "    .dataframe thead th {\n",
       "        text-align: right;\n",
       "    }\n",
       "</style>\n",
       "<table border=\"1\" class=\"dataframe\">\n",
       "  <thead>\n",
       "    <tr style=\"text-align: right;\">\n",
       "      <th></th>\n",
       "      <th>salary</th>\n",
       "      <th>exprior</th>\n",
       "      <th>yearsworked</th>\n",
       "      <th>yearsrank</th>\n",
       "      <th>market</th>\n",
       "      <th>Field</th>\n",
       "      <th>yearsabs</th>\n",
       "    </tr>\n",
       "  </thead>\n",
       "  <tbody>\n",
       "    <tr>\n",
       "      <th>count</th>\n",
       "      <td>359.000000</td>\n",
       "      <td>359.000000</td>\n",
       "      <td>359.000000</td>\n",
       "      <td>359.000000</td>\n",
       "      <td>359.000000</td>\n",
       "      <td>359.000000</td>\n",
       "      <td>359.000000</td>\n",
       "    </tr>\n",
       "    <tr>\n",
       "      <th>mean</th>\n",
       "      <td>50953.117655</td>\n",
       "      <td>3.008357</td>\n",
       "      <td>13.069638</td>\n",
       "      <td>7.047354</td>\n",
       "      <td>0.945738</td>\n",
       "      <td>2.509749</td>\n",
       "      <td>7.153203</td>\n",
       "    </tr>\n",
       "    <tr>\n",
       "      <th>std</th>\n",
       "      <td>12462.760076</td>\n",
       "      <td>4.783285</td>\n",
       "      <td>9.422910</td>\n",
       "      <td>6.454870</td>\n",
       "      <td>0.147068</td>\n",
       "      <td>1.120799</td>\n",
       "      <td>17.348754</td>\n",
       "    </tr>\n",
       "    <tr>\n",
       "      <th>min</th>\n",
       "      <td>29500.000000</td>\n",
       "      <td>0.000000</td>\n",
       "      <td>0.000000</td>\n",
       "      <td>0.000000</td>\n",
       "      <td>0.710000</td>\n",
       "      <td>1.000000</td>\n",
       "      <td>0.000000</td>\n",
       "    </tr>\n",
       "    <tr>\n",
       "      <th>25%</th>\n",
       "      <td>40488.500000</td>\n",
       "      <td>0.000000</td>\n",
       "      <td>4.000000</td>\n",
       "      <td>2.000000</td>\n",
       "      <td>0.840000</td>\n",
       "      <td>2.000000</td>\n",
       "      <td>0.000000</td>\n",
       "    </tr>\n",
       "    <tr>\n",
       "      <th>50%</th>\n",
       "      <td>50096.000000</td>\n",
       "      <td>1.000000</td>\n",
       "      <td>12.000000</td>\n",
       "      <td>5.000000</td>\n",
       "      <td>0.920000</td>\n",
       "      <td>3.000000</td>\n",
       "      <td>1.000000</td>\n",
       "    </tr>\n",
       "    <tr>\n",
       "      <th>75%</th>\n",
       "      <td>60171.500000</td>\n",
       "      <td>4.000000</td>\n",
       "      <td>22.000000</td>\n",
       "      <td>11.000000</td>\n",
       "      <td>1.010000</td>\n",
       "      <td>4.000000</td>\n",
       "      <td>2.000000</td>\n",
       "    </tr>\n",
       "    <tr>\n",
       "      <th>max</th>\n",
       "      <td>91405.000000</td>\n",
       "      <td>25.000000</td>\n",
       "      <td>41.000000</td>\n",
       "      <td>28.000000</td>\n",
       "      <td>1.330000</td>\n",
       "      <td>4.000000</td>\n",
       "      <td>118.000000</td>\n",
       "    </tr>\n",
       "  </tbody>\n",
       "</table>\n",
       "</div>"
      ],
      "text/plain": [
       "             salary     exprior  yearsworked   yearsrank      market  \\\n",
       "count    359.000000  359.000000   359.000000  359.000000  359.000000   \n",
       "mean   50953.117655    3.008357    13.069638    7.047354    0.945738   \n",
       "std    12462.760076    4.783285     9.422910    6.454870    0.147068   \n",
       "min    29500.000000    0.000000     0.000000    0.000000    0.710000   \n",
       "25%    40488.500000    0.000000     4.000000    2.000000    0.840000   \n",
       "50%    50096.000000    1.000000    12.000000    5.000000    0.920000   \n",
       "75%    60171.500000    4.000000    22.000000   11.000000    1.010000   \n",
       "max    91405.000000   25.000000    41.000000   28.000000    1.330000   \n",
       "\n",
       "            Field    yearsabs  \n",
       "count  359.000000  359.000000  \n",
       "mean     2.509749    7.153203  \n",
       "std      1.120799   17.348754  \n",
       "min      1.000000    0.000000  \n",
       "25%      2.000000    0.000000  \n",
       "50%      3.000000    1.000000  \n",
       "75%      4.000000    2.000000  \n",
       "max      4.000000  118.000000  "
      ]
     },
     "execution_count": 4,
     "metadata": {},
     "output_type": "execute_result"
    }
   ],
   "source": [
    "X_train.describe()"
   ]
  },
  {
   "cell_type": "markdown",
   "metadata": {},
   "source": [
    "##### [Comment]\n",
    "\n",
    "* Add notes to make short comments about what you were trying to investigate here and what your findings were"
   ]
  },
  {
   "cell_type": "markdown",
   "metadata": {},
   "source": [
    "#### Produce a correlation matrix comparing the relationship of salary to the predictor variables. Is there any multicollinearity or other problems that may be a problem in the multiple regression"
   ]
  },
  {
   "cell_type": "code",
   "execution_count": 5,
   "metadata": {},
   "outputs": [
    {
     "data": {
      "text/html": [
       "<style  type=\"text/css\" >\n",
       "    #T_7022d20a_7238_11e9_83ed_e1150964075erow0_col0 {\n",
       "            background-color:  #b40426;\n",
       "        }    #T_7022d20a_7238_11e9_83ed_e1150964075erow0_col1 {\n",
       "            background-color:  #96b7ff;\n",
       "        }    #T_7022d20a_7238_11e9_83ed_e1150964075erow0_col2 {\n",
       "            background-color:  #f7a688;\n",
       "        }    #T_7022d20a_7238_11e9_83ed_e1150964075erow0_col3 {\n",
       "            background-color:  #f7ad90;\n",
       "        }    #T_7022d20a_7238_11e9_83ed_e1150964075erow0_col4 {\n",
       "            background-color:  #d6dce4;\n",
       "        }    #T_7022d20a_7238_11e9_83ed_e1150964075erow0_col5 {\n",
       "            background-color:  #3b4cc0;\n",
       "        }    #T_7022d20a_7238_11e9_83ed_e1150964075erow0_col6 {\n",
       "            background-color:  #4f69d9;\n",
       "        }    #T_7022d20a_7238_11e9_83ed_e1150964075erow1_col0 {\n",
       "            background-color:  #bfd3f6;\n",
       "        }    #T_7022d20a_7238_11e9_83ed_e1150964075erow1_col1 {\n",
       "            background-color:  #b40426;\n",
       "        }    #T_7022d20a_7238_11e9_83ed_e1150964075erow1_col2 {\n",
       "            background-color:  #465ecf;\n",
       "        }    #T_7022d20a_7238_11e9_83ed_e1150964075erow1_col3 {\n",
       "            background-color:  #7699f6;\n",
       "        }    #T_7022d20a_7238_11e9_83ed_e1150964075erow1_col4 {\n",
       "            background-color:  #5f7fe8;\n",
       "        }    #T_7022d20a_7238_11e9_83ed_e1150964075erow1_col5 {\n",
       "            background-color:  #a3c2fe;\n",
       "        }    #T_7022d20a_7238_11e9_83ed_e1150964075erow1_col6 {\n",
       "            background-color:  #9bbcff;\n",
       "        }    #T_7022d20a_7238_11e9_83ed_e1150964075erow2_col0 {\n",
       "            background-color:  #f39778;\n",
       "        }    #T_7022d20a_7238_11e9_83ed_e1150964075erow2_col1 {\n",
       "            background-color:  #3b4cc0;\n",
       "        }    #T_7022d20a_7238_11e9_83ed_e1150964075erow2_col2 {\n",
       "            background-color:  #b40426;\n",
       "        }    #T_7022d20a_7238_11e9_83ed_e1150964075erow2_col3 {\n",
       "            background-color:  #e57058;\n",
       "        }    #T_7022d20a_7238_11e9_83ed_e1150964075erow2_col4 {\n",
       "            background-color:  #4f69d9;\n",
       "        }    #T_7022d20a_7238_11e9_83ed_e1150964075erow2_col5 {\n",
       "            background-color:  #6485ec;\n",
       "        }    #T_7022d20a_7238_11e9_83ed_e1150964075erow2_col6 {\n",
       "            background-color:  #6f92f3;\n",
       "        }    #T_7022d20a_7238_11e9_83ed_e1150964075erow3_col0 {\n",
       "            background-color:  #f59d7e;\n",
       "        }    #T_7022d20a_7238_11e9_83ed_e1150964075erow3_col1 {\n",
       "            background-color:  #6a8bef;\n",
       "        }    #T_7022d20a_7238_11e9_83ed_e1150964075erow3_col2 {\n",
       "            background-color:  #e57058;\n",
       "        }    #T_7022d20a_7238_11e9_83ed_e1150964075erow3_col3 {\n",
       "            background-color:  #b40426;\n",
       "        }    #T_7022d20a_7238_11e9_83ed_e1150964075erow3_col4 {\n",
       "            background-color:  #5977e3;\n",
       "        }    #T_7022d20a_7238_11e9_83ed_e1150964075erow3_col5 {\n",
       "            background-color:  #6687ed;\n",
       "        }    #T_7022d20a_7238_11e9_83ed_e1150964075erow3_col6 {\n",
       "            background-color:  #7093f3;\n",
       "        }    #T_7022d20a_7238_11e9_83ed_e1150964075erow4_col0 {\n",
       "            background-color:  #efcfbf;\n",
       "        }    #T_7022d20a_7238_11e9_83ed_e1150964075erow4_col1 {\n",
       "            background-color:  #6b8df0;\n",
       "        }    #T_7022d20a_7238_11e9_83ed_e1150964075erow4_col2 {\n",
       "            background-color:  #688aef;\n",
       "        }    #T_7022d20a_7238_11e9_83ed_e1150964075erow4_col3 {\n",
       "            background-color:  #7295f4;\n",
       "        }    #T_7022d20a_7238_11e9_83ed_e1150964075erow4_col4 {\n",
       "            background-color:  #b40426;\n",
       "        }    #T_7022d20a_7238_11e9_83ed_e1150964075erow4_col5 {\n",
       "            background-color:  #7da0f9;\n",
       "        }    #T_7022d20a_7238_11e9_83ed_e1150964075erow4_col6 {\n",
       "            background-color:  #3b4cc0;\n",
       "        }    #T_7022d20a_7238_11e9_83ed_e1150964075erow5_col0 {\n",
       "            background-color:  #3b4cc0;\n",
       "        }    #T_7022d20a_7238_11e9_83ed_e1150964075erow5_col1 {\n",
       "            background-color:  #7093f3;\n",
       "        }    #T_7022d20a_7238_11e9_83ed_e1150964075erow5_col2 {\n",
       "            background-color:  #3b4cc0;\n",
       "        }    #T_7022d20a_7238_11e9_83ed_e1150964075erow5_col3 {\n",
       "            background-color:  #3b4cc0;\n",
       "        }    #T_7022d20a_7238_11e9_83ed_e1150964075erow5_col4 {\n",
       "            background-color:  #3b4cc0;\n",
       "        }    #T_7022d20a_7238_11e9_83ed_e1150964075erow5_col5 {\n",
       "            background-color:  #b40426;\n",
       "        }    #T_7022d20a_7238_11e9_83ed_e1150964075erow5_col6 {\n",
       "            background-color:  #6a8bef;\n",
       "        }    #T_7022d20a_7238_11e9_83ed_e1150964075erow6_col0 {\n",
       "            background-color:  #97b8ff;\n",
       "        }    #T_7022d20a_7238_11e9_83ed_e1150964075erow6_col1 {\n",
       "            background-color:  #abc8fd;\n",
       "        }    #T_7022d20a_7238_11e9_83ed_e1150964075erow6_col2 {\n",
       "            background-color:  #8db0fe;\n",
       "        }    #T_7022d20a_7238_11e9_83ed_e1150964075erow6_col3 {\n",
       "            background-color:  #8fb1fe;\n",
       "        }    #T_7022d20a_7238_11e9_83ed_e1150964075erow6_col4 {\n",
       "            background-color:  #4055c8;\n",
       "        }    #T_7022d20a_7238_11e9_83ed_e1150964075erow6_col5 {\n",
       "            background-color:  #adc9fd;\n",
       "        }    #T_7022d20a_7238_11e9_83ed_e1150964075erow6_col6 {\n",
       "            background-color:  #b40426;\n",
       "        }</style>  \n",
       "<table id=\"T_7022d20a_7238_11e9_83ed_e1150964075e\" > \n",
       "<thead>    <tr> \n",
       "        <th class=\"blank level0\" ></th> \n",
       "        <th class=\"col_heading level0 col0\" >salary</th> \n",
       "        <th class=\"col_heading level0 col1\" >exprior</th> \n",
       "        <th class=\"col_heading level0 col2\" >yearsworked</th> \n",
       "        <th class=\"col_heading level0 col3\" >yearsrank</th> \n",
       "        <th class=\"col_heading level0 col4\" >market</th> \n",
       "        <th class=\"col_heading level0 col5\" >Field</th> \n",
       "        <th class=\"col_heading level0 col6\" >yearsabs</th> \n",
       "    </tr></thead> \n",
       "<tbody>    <tr> \n",
       "        <th id=\"T_7022d20a_7238_11e9_83ed_e1150964075elevel0_row0\" class=\"row_heading level0 row0\" >salary</th> \n",
       "        <td id=\"T_7022d20a_7238_11e9_83ed_e1150964075erow0_col0\" class=\"data row0 col0\" >1</td> \n",
       "        <td id=\"T_7022d20a_7238_11e9_83ed_e1150964075erow0_col1\" class=\"data row0 col1\" >0.099</td> \n",
       "        <td id=\"T_7022d20a_7238_11e9_83ed_e1150964075erow0_col2\" class=\"data row0 col2\" >0.64</td> \n",
       "        <td id=\"T_7022d20a_7238_11e9_83ed_e1150964075erow0_col3\" class=\"data row0 col3\" >0.61</td> \n",
       "        <td id=\"T_7022d20a_7238_11e9_83ed_e1150964075erow0_col4\" class=\"data row0 col4\" >0.37</td> \n",
       "        <td id=\"T_7022d20a_7238_11e9_83ed_e1150964075erow0_col5\" class=\"data row0 col5\" >-0.5</td> \n",
       "        <td id=\"T_7022d20a_7238_11e9_83ed_e1150964075erow0_col6\" class=\"data row0 col6\" >-0.082</td> \n",
       "    </tr>    <tr> \n",
       "        <th id=\"T_7022d20a_7238_11e9_83ed_e1150964075elevel0_row1\" class=\"row_heading level0 row1\" >exprior</th> \n",
       "        <td id=\"T_7022d20a_7238_11e9_83ed_e1150964075erow1_col0\" class=\"data row1 col0\" >0.099</td> \n",
       "        <td id=\"T_7022d20a_7238_11e9_83ed_e1150964075erow1_col1\" class=\"data row1 col1\" >1</td> \n",
       "        <td id=\"T_7022d20a_7238_11e9_83ed_e1150964075erow1_col2\" class=\"data row1 col2\" >-0.24</td> \n",
       "        <td id=\"T_7022d20a_7238_11e9_83ed_e1150964075erow1_col3\" class=\"data row1 col3\" >-0.053</td> \n",
       "        <td id=\"T_7022d20a_7238_11e9_83ed_e1150964075erow1_col4\" class=\"data row1 col4\" >-0.048</td> \n",
       "        <td id=\"T_7022d20a_7238_11e9_83ed_e1150964075erow1_col5\" class=\"data row1 col5\" >-0.029</td> \n",
       "        <td id=\"T_7022d20a_7238_11e9_83ed_e1150964075erow1_col6\" class=\"data row1 col6\" >0.18</td> \n",
       "    </tr>    <tr> \n",
       "        <th id=\"T_7022d20a_7238_11e9_83ed_e1150964075elevel0_row2\" class=\"row_heading level0 row2\" >yearsworked</th> \n",
       "        <td id=\"T_7022d20a_7238_11e9_83ed_e1150964075erow2_col0\" class=\"data row2 col0\" >0.64</td> \n",
       "        <td id=\"T_7022d20a_7238_11e9_83ed_e1150964075erow2_col1\" class=\"data row2 col1\" >-0.24</td> \n",
       "        <td id=\"T_7022d20a_7238_11e9_83ed_e1150964075erow2_col2\" class=\"data row2 col2\" >1</td> \n",
       "        <td id=\"T_7022d20a_7238_11e9_83ed_e1150964075erow2_col3\" class=\"data row2 col3\" >0.79</td> \n",
       "        <td id=\"T_7022d20a_7238_11e9_83ed_e1150964075erow2_col4\" class=\"data row2 col4\" >-0.1</td> \n",
       "        <td id=\"T_7022d20a_7238_11e9_83ed_e1150964075erow2_col5\" class=\"data row2 col5\" >-0.29</td> \n",
       "        <td id=\"T_7022d20a_7238_11e9_83ed_e1150964075erow2_col6\" class=\"data row2 col6\" >0.033</td> \n",
       "    </tr>    <tr> \n",
       "        <th id=\"T_7022d20a_7238_11e9_83ed_e1150964075elevel0_row3\" class=\"row_heading level0 row3\" >yearsrank</th> \n",
       "        <td id=\"T_7022d20a_7238_11e9_83ed_e1150964075erow3_col0\" class=\"data row3 col0\" >0.61</td> \n",
       "        <td id=\"T_7022d20a_7238_11e9_83ed_e1150964075erow3_col1\" class=\"data row3 col1\" >-0.053</td> \n",
       "        <td id=\"T_7022d20a_7238_11e9_83ed_e1150964075erow3_col2\" class=\"data row3 col2\" >0.79</td> \n",
       "        <td id=\"T_7022d20a_7238_11e9_83ed_e1150964075erow3_col3\" class=\"data row3 col3\" >1</td> \n",
       "        <td id=\"T_7022d20a_7238_11e9_83ed_e1150964075erow3_col4\" class=\"data row3 col4\" >-0.069</td> \n",
       "        <td id=\"T_7022d20a_7238_11e9_83ed_e1150964075erow3_col5\" class=\"data row3 col5\" >-0.29</td> \n",
       "        <td id=\"T_7022d20a_7238_11e9_83ed_e1150964075erow3_col6\" class=\"data row3 col6\" >0.036</td> \n",
       "    </tr>    <tr> \n",
       "        <th id=\"T_7022d20a_7238_11e9_83ed_e1150964075elevel0_row4\" class=\"row_heading level0 row4\" >market</th> \n",
       "        <td id=\"T_7022d20a_7238_11e9_83ed_e1150964075erow4_col0\" class=\"data row4 col0\" >0.37</td> \n",
       "        <td id=\"T_7022d20a_7238_11e9_83ed_e1150964075erow4_col1\" class=\"data row4 col1\" >-0.048</td> \n",
       "        <td id=\"T_7022d20a_7238_11e9_83ed_e1150964075erow4_col2\" class=\"data row4 col2\" >-0.1</td> \n",
       "        <td id=\"T_7022d20a_7238_11e9_83ed_e1150964075erow4_col3\" class=\"data row4 col3\" >-0.069</td> \n",
       "        <td id=\"T_7022d20a_7238_11e9_83ed_e1150964075erow4_col4\" class=\"data row4 col4\" >1</td> \n",
       "        <td id=\"T_7022d20a_7238_11e9_83ed_e1150964075erow4_col5\" class=\"data row4 col5\" >-0.19</td> \n",
       "        <td id=\"T_7022d20a_7238_11e9_83ed_e1150964075erow4_col6\" class=\"data row4 col6\" >-0.16</td> \n",
       "    </tr>    <tr> \n",
       "        <th id=\"T_7022d20a_7238_11e9_83ed_e1150964075elevel0_row5\" class=\"row_heading level0 row5\" >Field</th> \n",
       "        <td id=\"T_7022d20a_7238_11e9_83ed_e1150964075erow5_col0\" class=\"data row5 col0\" >-0.5</td> \n",
       "        <td id=\"T_7022d20a_7238_11e9_83ed_e1150964075erow5_col1\" class=\"data row5 col1\" >-0.029</td> \n",
       "        <td id=\"T_7022d20a_7238_11e9_83ed_e1150964075erow5_col2\" class=\"data row5 col2\" >-0.29</td> \n",
       "        <td id=\"T_7022d20a_7238_11e9_83ed_e1150964075erow5_col3\" class=\"data row5 col3\" >-0.29</td> \n",
       "        <td id=\"T_7022d20a_7238_11e9_83ed_e1150964075erow5_col4\" class=\"data row5 col4\" >-0.19</td> \n",
       "        <td id=\"T_7022d20a_7238_11e9_83ed_e1150964075erow5_col5\" class=\"data row5 col5\" >1</td> \n",
       "        <td id=\"T_7022d20a_7238_11e9_83ed_e1150964075erow5_col6\" class=\"data row5 col6\" >0.014</td> \n",
       "    </tr>    <tr> \n",
       "        <th id=\"T_7022d20a_7238_11e9_83ed_e1150964075elevel0_row6\" class=\"row_heading level0 row6\" >yearsabs</th> \n",
       "        <td id=\"T_7022d20a_7238_11e9_83ed_e1150964075erow6_col0\" class=\"data row6 col0\" >-0.082</td> \n",
       "        <td id=\"T_7022d20a_7238_11e9_83ed_e1150964075erow6_col1\" class=\"data row6 col1\" >0.18</td> \n",
       "        <td id=\"T_7022d20a_7238_11e9_83ed_e1150964075erow6_col2\" class=\"data row6 col2\" >0.033</td> \n",
       "        <td id=\"T_7022d20a_7238_11e9_83ed_e1150964075erow6_col3\" class=\"data row6 col3\" >0.036</td> \n",
       "        <td id=\"T_7022d20a_7238_11e9_83ed_e1150964075erow6_col4\" class=\"data row6 col4\" >-0.16</td> \n",
       "        <td id=\"T_7022d20a_7238_11e9_83ed_e1150964075erow6_col5\" class=\"data row6 col5\" >0.014</td> \n",
       "        <td id=\"T_7022d20a_7238_11e9_83ed_e1150964075erow6_col6\" class=\"data row6 col6\" >1</td> \n",
       "    </tr></tbody> \n",
       "</table> "
      ],
      "text/plain": [
       "<pandas.io.formats.style.Styler at 0x7fb725453320>"
      ]
     },
     "execution_count": 5,
     "metadata": {},
     "output_type": "execute_result"
    }
   ],
   "source": [
    "X_train.corr().style.background_gradient(cmap='coolwarm').set_precision(2)"
   ]
  },
  {
   "cell_type": "markdown",
   "metadata": {},
   "source": [
    "#### No multicollinearity"
   ]
  },
  {
   "cell_type": "markdown",
   "metadata": {},
   "source": [
    "##### [Comment]\n",
    "* What in the corr() plot leads you to conclude that there is no collinearity?"
   ]
  },
  {
   "cell_type": "markdown",
   "metadata": {},
   "source": [
    "#### Run the multiple linear regression and interpret the standardised coefficients given in the statsmodels output. What are the most important features when predicting employee salary?"
   ]
  },
  {
   "cell_type": "code",
   "execution_count": 12,
   "metadata": {},
   "outputs": [
    {
     "data": {
      "text/plain": [
       "Intercept       4475.192046\n",
       "yearsworked      621.173911\n",
       "yearsrank        517.383548\n",
       "market         36903.128170\n",
       "yearsabs         -26.208411\n",
       "dtype: float64"
      ]
     },
     "execution_count": 12,
     "metadata": {},
     "output_type": "execute_result"
    }
   ],
   "source": [
    "# create a fitted model with all 5 features\n",
    "\n",
    "lm = smf.ols(formula='salary ~ yearsworked + yearsrank + market + yearsabs', data=X_train).fit()\n",
    "\n",
    "# print the coefficients\n",
    "lm.params"
   ]
  },
  {
   "cell_type": "markdown",
   "metadata": {},
   "source": [
    "##### [Comment]\n",
    "\n",
    "* Why were these variables chosen to train the model?\n",
    "* Say something about prediction power, based on correlation scores (stating your thresholds). E.g 'Reasonably strong positive correlation between yearsworked and salary suggested by correlation score above 50%'\n",
    "* In your notes you say '5 features', but I see '4'"
   ]
  },
  {
   "cell_type": "markdown",
   "metadata": {},
   "source": [
    "#### Calculate the standardised residuals (resid()) and standardised predicted values (fittedvalues())."
   ]
  },
  {
   "cell_type": "code",
   "execution_count": 14,
   "metadata": {},
   "outputs": [
    {
     "data": {
      "text/html": [
       "<table class=\"simpletable\">\n",
       "<caption>OLS Regression Results</caption>\n",
       "<tr>\n",
       "  <th>Dep. Variable:</th>         <td>salary</td>      <th>  R-squared:         </th> <td>   0.628</td>\n",
       "</tr>\n",
       "<tr>\n",
       "  <th>Model:</th>                   <td>OLS</td>       <th>  Adj. R-squared:    </th> <td>   0.623</td>\n",
       "</tr>\n",
       "<tr>\n",
       "  <th>Method:</th>             <td>Least Squares</td>  <th>  F-statistic:       </th> <td>   149.2</td>\n",
       "</tr>\n",
       "<tr>\n",
       "  <th>Date:</th>             <td>Wed, 19 Jun 2019</td> <th>  Prob (F-statistic):</th> <td>1.25e-74</td>\n",
       "</tr>\n",
       "<tr>\n",
       "  <th>Time:</th>                 <td>01:56:10</td>     <th>  Log-Likelihood:    </th> <td> -3717.1</td>\n",
       "</tr>\n",
       "<tr>\n",
       "  <th>No. Observations:</th>      <td>   359</td>      <th>  AIC:               </th> <td>   7444.</td>\n",
       "</tr>\n",
       "<tr>\n",
       "  <th>Df Residuals:</th>          <td>   354</td>      <th>  BIC:               </th> <td>   7464.</td>\n",
       "</tr>\n",
       "<tr>\n",
       "  <th>Df Model:</th>              <td>     4</td>      <th>                     </th>     <td> </td>   \n",
       "</tr>\n",
       "<tr>\n",
       "  <th>Covariance Type:</th>      <td>nonrobust</td>    <th>                     </th>     <td> </td>   \n",
       "</tr>\n",
       "</table>\n",
       "<table class=\"simpletable\">\n",
       "<tr>\n",
       "       <td></td>          <th>coef</th>     <th>std err</th>      <th>t</th>      <th>P>|t|</th>  <th>[0.025</th>    <th>0.975]</th>  \n",
       "</tr>\n",
       "<tr>\n",
       "  <th>Intercept</th>   <td> 4475.1920</td> <td> 2821.572</td> <td>    1.586</td> <td> 0.114</td> <td>-1073.960</td> <td>    1e+04</td>\n",
       "</tr>\n",
       "<tr>\n",
       "  <th>yearsworked</th> <td>  621.1739</td> <td>   70.901</td> <td>    8.761</td> <td> 0.000</td> <td>  481.734</td> <td>  760.614</td>\n",
       "</tr>\n",
       "<tr>\n",
       "  <th>yearsrank</th>   <td>  517.3835</td> <td>  103.202</td> <td>    5.013</td> <td> 0.000</td> <td>  314.417</td> <td>  720.350</td>\n",
       "</tr>\n",
       "<tr>\n",
       "  <th>market</th>      <td>  3.69e+04</td> <td> 2799.798</td> <td>   13.181</td> <td> 0.000</td> <td> 3.14e+04</td> <td> 4.24e+04</td>\n",
       "</tr>\n",
       "<tr>\n",
       "  <th>yearsabs</th>    <td>  -26.2084</td> <td>   23.614</td> <td>   -1.110</td> <td> 0.268</td> <td>  -72.650</td> <td>   20.233</td>\n",
       "</tr>\n",
       "</table>\n",
       "<table class=\"simpletable\">\n",
       "<tr>\n",
       "  <th>Omnibus:</th>       <td>53.486</td> <th>  Durbin-Watson:     </th> <td>   2.168</td>\n",
       "</tr>\n",
       "<tr>\n",
       "  <th>Prob(Omnibus):</th> <td> 0.000</td> <th>  Jarque-Bera (JB):  </th> <td>  94.143</td>\n",
       "</tr>\n",
       "<tr>\n",
       "  <th>Skew:</th>          <td> 0.857</td> <th>  Prob(JB):          </th> <td>3.61e-21</td>\n",
       "</tr>\n",
       "<tr>\n",
       "  <th>Kurtosis:</th>      <td> 4.832</td> <th>  Cond. No.          </th> <td>    209.</td>\n",
       "</tr>\n",
       "</table><br/><br/>Warnings:<br/>[1] Standard Errors assume that the covariance matrix of the errors is correctly specified."
      ],
      "text/plain": [
       "<class 'statsmodels.iolib.summary.Summary'>\n",
       "\"\"\"\n",
       "                            OLS Regression Results                            \n",
       "==============================================================================\n",
       "Dep. Variable:                 salary   R-squared:                       0.628\n",
       "Model:                            OLS   Adj. R-squared:                  0.623\n",
       "Method:                 Least Squares   F-statistic:                     149.2\n",
       "Date:                Wed, 19 Jun 2019   Prob (F-statistic):           1.25e-74\n",
       "Time:                        01:56:10   Log-Likelihood:                -3717.1\n",
       "No. Observations:                 359   AIC:                             7444.\n",
       "Df Residuals:                     354   BIC:                             7464.\n",
       "Df Model:                           4                                         \n",
       "Covariance Type:            nonrobust                                         \n",
       "===============================================================================\n",
       "                  coef    std err          t      P>|t|      [0.025      0.975]\n",
       "-------------------------------------------------------------------------------\n",
       "Intercept    4475.1920   2821.572      1.586      0.114   -1073.960       1e+04\n",
       "yearsworked   621.1739     70.901      8.761      0.000     481.734     760.614\n",
       "yearsrank     517.3835    103.202      5.013      0.000     314.417     720.350\n",
       "market        3.69e+04   2799.798     13.181      0.000    3.14e+04    4.24e+04\n",
       "yearsabs      -26.2084     23.614     -1.110      0.268     -72.650      20.233\n",
       "==============================================================================\n",
       "Omnibus:                       53.486   Durbin-Watson:                   2.168\n",
       "Prob(Omnibus):                  0.000   Jarque-Bera (JB):               94.143\n",
       "Skew:                           0.857   Prob(JB):                     3.61e-21\n",
       "Kurtosis:                       4.832   Cond. No.                         209.\n",
       "==============================================================================\n",
       "\n",
       "Warnings:\n",
       "[1] Standard Errors assume that the covariance matrix of the errors is correctly specified.\n",
       "\"\"\""
      ]
     },
     "execution_count": 14,
     "metadata": {},
     "output_type": "execute_result"
    }
   ],
   "source": [
    "# print a summary of the fitted model\n",
    "lm.summary()"
   ]
  },
  {
   "cell_type": "markdown",
   "metadata": {},
   "source": [
    "##### [Comment]\n",
    "\n",
    "* Model over summarised. Wherever possible, break model building into smaller steps that can be tweaked if necessary\n",
    "* Explain results"
   ]
  },
  {
   "cell_type": "code",
   "execution_count": 20,
   "metadata": {},
   "outputs": [
    {
     "data": {
      "text/plain": [
       "94      -671.700782\n",
       "311     8870.156317\n",
       "367     -834.034585\n",
       "23     10991.477207\n",
       "271      503.923493\n",
       "dtype: float64"
      ]
     },
     "execution_count": 20,
     "metadata": {},
     "output_type": "execute_result"
    }
   ],
   "source": [
    "lm.resid.head()"
   ]
  },
  {
   "cell_type": "markdown",
   "metadata": {},
   "source": [
    "##### [Comment]\n",
    "* Interpret results "
   ]
  },
  {
   "cell_type": "code",
   "execution_count": 21,
   "metadata": {
    "scrolled": true
   },
   "outputs": [
    {
     "data": {
      "text/plain": [
       "94     41136.700782\n",
       "311    61643.843683\n",
       "367    69740.034585\n",
       "23     51067.522793\n",
       "271    52744.076507\n",
       "dtype: float64"
      ]
     },
     "execution_count": 21,
     "metadata": {},
     "output_type": "execute_result"
    }
   ],
   "source": [
    "lm.fittedvalues.head()"
   ]
  },
  {
   "cell_type": "markdown",
   "metadata": {},
   "source": [
    "##### [Comment]\n",
    "\n",
    "* Interpret results"
   ]
  },
  {
   "cell_type": "markdown",
   "metadata": {},
   "source": [
    "#### Plot the residuals versus the predicted values using seaborn's residplot with fitted values as the x parameter, and the dependent variable as y. lowess=True."
   ]
  },
  {
   "cell_type": "code",
   "execution_count": 24,
   "metadata": {},
   "outputs": [
    {
     "data": {
      "text/plain": [
       "<matplotlib.axes._subplots.AxesSubplot at 0x7fb724759ef0>"
      ]
     },
     "execution_count": 24,
     "metadata": {},
     "output_type": "execute_result"
    },
    {
     "data": {
      "image/png": "[encoded data removed]",
      "text/plain": [
       "<Figure size 432x288 with 1 Axes>"
      ]
     },
     "metadata": {
      "needs_background": "light"
     },
     "output_type": "display_data"
    }
   ],
   "source": [
    "sns.residplot(lm.fittedvalues, lm.resid, lowess=True)"
   ]
  },
  {
   "cell_type": "markdown",
   "metadata": {},
   "source": [
    "##### [Comment]\n",
    "\n",
    "* Interpret results\n",
    "* What do your results tell you about how well/badly your model performed? Examples can be:\n",
    "    * Is there any insights you gained from the beginning of the data processing to suggest why the model is good or bad?\n",
    "    * Suggest other data processing approaches / models that might be used?\n",
    "    * Critique your own work/code, what other data can improve the model   "
   ]
  },
  {
   "cell_type": "code",
   "execution_count": null,
   "metadata": {},
   "outputs": [],
   "source": []
  }
 ],
 "metadata": {
  "kernelspec": {
   "display_name": "Python 2",
   "language": "python",
   "name": "python2"
  },
  "language_info": {
   "codemirror_mode": {
    "name": "ipython",
    "version": 2
   },
   "file_extension": ".py",
   "mimetype": "text/x-python",
   "name": "python",
   "nbconvert_exporter": "python",
   "pygments_lexer": "ipython2",
   "version": "2.7.16"
  }
 },
 "nbformat": 4,
 "nbformat_minor": 2
}
